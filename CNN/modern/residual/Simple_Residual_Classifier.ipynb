{
  "nbformat": 4,
  "nbformat_minor": 0,
  "metadata": {
    "colab": {
      "provenance": []
    },
    "kernelspec": {
      "name": "python3",
      "display_name": "Python 3"
    },
    "language_info": {
      "name": "python"
    },
    "accelerator": "GPU",
    "gpuClass": "standard",
    "widgets": {
      "application/vnd.jupyter.widget-state+json": {
        "2605a22165f1495e9a07adf4ef158714": {
          "model_module": "@jupyter-widgets/controls",
          "model_name": "HBoxModel",
          "model_module_version": "1.5.0",
          "state": {
            "_dom_classes": [],
            "_model_module": "@jupyter-widgets/controls",
            "_model_module_version": "1.5.0",
            "_model_name": "HBoxModel",
            "_view_count": null,
            "_view_module": "@jupyter-widgets/controls",
            "_view_module_version": "1.5.0",
            "_view_name": "HBoxView",
            "box_style": "",
            "children": [
              "IPY_MODEL_fe4109b8d9f54376a490906e663942bf",
              "IPY_MODEL_e4b99a364dfa4013849615279ff60173",
              "IPY_MODEL_175a2849bc34423aade94bd4fccacea5"
            ],
            "layout": "IPY_MODEL_b9dde9ed76034e2b9345f974fb904974"
          }
        },
        "fe4109b8d9f54376a490906e663942bf": {
          "model_module": "@jupyter-widgets/controls",
          "model_name": "HTMLModel",
          "model_module_version": "1.5.0",
          "state": {
            "_dom_classes": [],
            "_model_module": "@jupyter-widgets/controls",
            "_model_module_version": "1.5.0",
            "_model_name": "HTMLModel",
            "_view_count": null,
            "_view_module": "@jupyter-widgets/controls",
            "_view_module_version": "1.5.0",
            "_view_name": "HTMLView",
            "description": "",
            "description_tooltip": null,
            "layout": "IPY_MODEL_61d964d7d41c4dd1ab855c86aa19d011",
            "placeholder": "​",
            "style": "IPY_MODEL_e56be37ec0974747ae5f0b51c1d71300",
            "value": "100%"
          }
        },
        "e4b99a364dfa4013849615279ff60173": {
          "model_module": "@jupyter-widgets/controls",
          "model_name": "FloatProgressModel",
          "model_module_version": "1.5.0",
          "state": {
            "_dom_classes": [],
            "_model_module": "@jupyter-widgets/controls",
            "_model_module_version": "1.5.0",
            "_model_name": "FloatProgressModel",
            "_view_count": null,
            "_view_module": "@jupyter-widgets/controls",
            "_view_module_version": "1.5.0",
            "_view_name": "ProgressView",
            "bar_style": "success",
            "description": "",
            "description_tooltip": null,
            "layout": "IPY_MODEL_8b54bfc634cf4ab183ed9edc0fe3beab",
            "max": 9912422,
            "min": 0,
            "orientation": "horizontal",
            "style": "IPY_MODEL_cee6ce525a324d0692fa7f62aa1dedc0",
            "value": 9912422
          }
        },
        "175a2849bc34423aade94bd4fccacea5": {
          "model_module": "@jupyter-widgets/controls",
          "model_name": "HTMLModel",
          "model_module_version": "1.5.0",
          "state": {
            "_dom_classes": [],
            "_model_module": "@jupyter-widgets/controls",
            "_model_module_version": "1.5.0",
            "_model_name": "HTMLModel",
            "_view_count": null,
            "_view_module": "@jupyter-widgets/controls",
            "_view_module_version": "1.5.0",
            "_view_name": "HTMLView",
            "description": "",
            "description_tooltip": null,
            "layout": "IPY_MODEL_365d075a90c44bd290055881680c5fd6",
            "placeholder": "​",
            "style": "IPY_MODEL_4202d4d5a1bc453f964d3d46e11fa879",
            "value": " 9912422/9912422 [00:00&lt;00:00, 110140461.44it/s]"
          }
        },
        "b9dde9ed76034e2b9345f974fb904974": {
          "model_module": "@jupyter-widgets/base",
          "model_name": "LayoutModel",
          "model_module_version": "1.2.0",
          "state": {
            "_model_module": "@jupyter-widgets/base",
            "_model_module_version": "1.2.0",
            "_model_name": "LayoutModel",
            "_view_count": null,
            "_view_module": "@jupyter-widgets/base",
            "_view_module_version": "1.2.0",
            "_view_name": "LayoutView",
            "align_content": null,
            "align_items": null,
            "align_self": null,
            "border": null,
            "bottom": null,
            "display": null,
            "flex": null,
            "flex_flow": null,
            "grid_area": null,
            "grid_auto_columns": null,
            "grid_auto_flow": null,
            "grid_auto_rows": null,
            "grid_column": null,
            "grid_gap": null,
            "grid_row": null,
            "grid_template_areas": null,
            "grid_template_columns": null,
            "grid_template_rows": null,
            "height": null,
            "justify_content": null,
            "justify_items": null,
            "left": null,
            "margin": null,
            "max_height": null,
            "max_width": null,
            "min_height": null,
            "min_width": null,
            "object_fit": null,
            "object_position": null,
            "order": null,
            "overflow": null,
            "overflow_x": null,
            "overflow_y": null,
            "padding": null,
            "right": null,
            "top": null,
            "visibility": null,
            "width": null
          }
        },
        "61d964d7d41c4dd1ab855c86aa19d011": {
          "model_module": "@jupyter-widgets/base",
          "model_name": "LayoutModel",
          "model_module_version": "1.2.0",
          "state": {
            "_model_module": "@jupyter-widgets/base",
            "_model_module_version": "1.2.0",
            "_model_name": "LayoutModel",
            "_view_count": null,
            "_view_module": "@jupyter-widgets/base",
            "_view_module_version": "1.2.0",
            "_view_name": "LayoutView",
            "align_content": null,
            "align_items": null,
            "align_self": null,
            "border": null,
            "bottom": null,
            "display": null,
            "flex": null,
            "flex_flow": null,
            "grid_area": null,
            "grid_auto_columns": null,
            "grid_auto_flow": null,
            "grid_auto_rows": null,
            "grid_column": null,
            "grid_gap": null,
            "grid_row": null,
            "grid_template_areas": null,
            "grid_template_columns": null,
            "grid_template_rows": null,
            "height": null,
            "justify_content": null,
            "justify_items": null,
            "left": null,
            "margin": null,
            "max_height": null,
            "max_width": null,
            "min_height": null,
            "min_width": null,
            "object_fit": null,
            "object_position": null,
            "order": null,
            "overflow": null,
            "overflow_x": null,
            "overflow_y": null,
            "padding": null,
            "right": null,
            "top": null,
            "visibility": null,
            "width": null
          }
        },
        "e56be37ec0974747ae5f0b51c1d71300": {
          "model_module": "@jupyter-widgets/controls",
          "model_name": "DescriptionStyleModel",
          "model_module_version": "1.5.0",
          "state": {
            "_model_module": "@jupyter-widgets/controls",
            "_model_module_version": "1.5.0",
            "_model_name": "DescriptionStyleModel",
            "_view_count": null,
            "_view_module": "@jupyter-widgets/base",
            "_view_module_version": "1.2.0",
            "_view_name": "StyleView",
            "description_width": ""
          }
        },
        "8b54bfc634cf4ab183ed9edc0fe3beab": {
          "model_module": "@jupyter-widgets/base",
          "model_name": "LayoutModel",
          "model_module_version": "1.2.0",
          "state": {
            "_model_module": "@jupyter-widgets/base",
            "_model_module_version": "1.2.0",
            "_model_name": "LayoutModel",
            "_view_count": null,
            "_view_module": "@jupyter-widgets/base",
            "_view_module_version": "1.2.0",
            "_view_name": "LayoutView",
            "align_content": null,
            "align_items": null,
            "align_self": null,
            "border": null,
            "bottom": null,
            "display": null,
            "flex": null,
            "flex_flow": null,
            "grid_area": null,
            "grid_auto_columns": null,
            "grid_auto_flow": null,
            "grid_auto_rows": null,
            "grid_column": null,
            "grid_gap": null,
            "grid_row": null,
            "grid_template_areas": null,
            "grid_template_columns": null,
            "grid_template_rows": null,
            "height": null,
            "justify_content": null,
            "justify_items": null,
            "left": null,
            "margin": null,
            "max_height": null,
            "max_width": null,
            "min_height": null,
            "min_width": null,
            "object_fit": null,
            "object_position": null,
            "order": null,
            "overflow": null,
            "overflow_x": null,
            "overflow_y": null,
            "padding": null,
            "right": null,
            "top": null,
            "visibility": null,
            "width": null
          }
        },
        "cee6ce525a324d0692fa7f62aa1dedc0": {
          "model_module": "@jupyter-widgets/controls",
          "model_name": "ProgressStyleModel",
          "model_module_version": "1.5.0",
          "state": {
            "_model_module": "@jupyter-widgets/controls",
            "_model_module_version": "1.5.0",
            "_model_name": "ProgressStyleModel",
            "_view_count": null,
            "_view_module": "@jupyter-widgets/base",
            "_view_module_version": "1.2.0",
            "_view_name": "StyleView",
            "bar_color": null,
            "description_width": ""
          }
        },
        "365d075a90c44bd290055881680c5fd6": {
          "model_module": "@jupyter-widgets/base",
          "model_name": "LayoutModel",
          "model_module_version": "1.2.0",
          "state": {
            "_model_module": "@jupyter-widgets/base",
            "_model_module_version": "1.2.0",
            "_model_name": "LayoutModel",
            "_view_count": null,
            "_view_module": "@jupyter-widgets/base",
            "_view_module_version": "1.2.0",
            "_view_name": "LayoutView",
            "align_content": null,
            "align_items": null,
            "align_self": null,
            "border": null,
            "bottom": null,
            "display": null,
            "flex": null,
            "flex_flow": null,
            "grid_area": null,
            "grid_auto_columns": null,
            "grid_auto_flow": null,
            "grid_auto_rows": null,
            "grid_column": null,
            "grid_gap": null,
            "grid_row": null,
            "grid_template_areas": null,
            "grid_template_columns": null,
            "grid_template_rows": null,
            "height": null,
            "justify_content": null,
            "justify_items": null,
            "left": null,
            "margin": null,
            "max_height": null,
            "max_width": null,
            "min_height": null,
            "min_width": null,
            "object_fit": null,
            "object_position": null,
            "order": null,
            "overflow": null,
            "overflow_x": null,
            "overflow_y": null,
            "padding": null,
            "right": null,
            "top": null,
            "visibility": null,
            "width": null
          }
        },
        "4202d4d5a1bc453f964d3d46e11fa879": {
          "model_module": "@jupyter-widgets/controls",
          "model_name": "DescriptionStyleModel",
          "model_module_version": "1.5.0",
          "state": {
            "_model_module": "@jupyter-widgets/controls",
            "_model_module_version": "1.5.0",
            "_model_name": "DescriptionStyleModel",
            "_view_count": null,
            "_view_module": "@jupyter-widgets/base",
            "_view_module_version": "1.2.0",
            "_view_name": "StyleView",
            "description_width": ""
          }
        },
        "32974e50bd3f4b1c87526bc100c1b839": {
          "model_module": "@jupyter-widgets/controls",
          "model_name": "HBoxModel",
          "model_module_version": "1.5.0",
          "state": {
            "_dom_classes": [],
            "_model_module": "@jupyter-widgets/controls",
            "_model_module_version": "1.5.0",
            "_model_name": "HBoxModel",
            "_view_count": null,
            "_view_module": "@jupyter-widgets/controls",
            "_view_module_version": "1.5.0",
            "_view_name": "HBoxView",
            "box_style": "",
            "children": [
              "IPY_MODEL_91ea26865f714358810f27717471a211",
              "IPY_MODEL_f4a91a95bca34fffa290e1cc5a1c426d",
              "IPY_MODEL_558149573d8e448e86e1b8fe9c7ef214"
            ],
            "layout": "IPY_MODEL_2d13503336294a999e8b68e787330b4d"
          }
        },
        "91ea26865f714358810f27717471a211": {
          "model_module": "@jupyter-widgets/controls",
          "model_name": "HTMLModel",
          "model_module_version": "1.5.0",
          "state": {
            "_dom_classes": [],
            "_model_module": "@jupyter-widgets/controls",
            "_model_module_version": "1.5.0",
            "_model_name": "HTMLModel",
            "_view_count": null,
            "_view_module": "@jupyter-widgets/controls",
            "_view_module_version": "1.5.0",
            "_view_name": "HTMLView",
            "description": "",
            "description_tooltip": null,
            "layout": "IPY_MODEL_9e9d15971f0549e69e7f9babb85014da",
            "placeholder": "​",
            "style": "IPY_MODEL_ff22873798004a0b833c5c0a354a86b9",
            "value": "100%"
          }
        },
        "f4a91a95bca34fffa290e1cc5a1c426d": {
          "model_module": "@jupyter-widgets/controls",
          "model_name": "FloatProgressModel",
          "model_module_version": "1.5.0",
          "state": {
            "_dom_classes": [],
            "_model_module": "@jupyter-widgets/controls",
            "_model_module_version": "1.5.0",
            "_model_name": "FloatProgressModel",
            "_view_count": null,
            "_view_module": "@jupyter-widgets/controls",
            "_view_module_version": "1.5.0",
            "_view_name": "ProgressView",
            "bar_style": "success",
            "description": "",
            "description_tooltip": null,
            "layout": "IPY_MODEL_f7d82e673c884cf7ae8b87f545dec8e8",
            "max": 28881,
            "min": 0,
            "orientation": "horizontal",
            "style": "IPY_MODEL_35a68bea039040b29ac8283d24625847",
            "value": 28881
          }
        },
        "558149573d8e448e86e1b8fe9c7ef214": {
          "model_module": "@jupyter-widgets/controls",
          "model_name": "HTMLModel",
          "model_module_version": "1.5.0",
          "state": {
            "_dom_classes": [],
            "_model_module": "@jupyter-widgets/controls",
            "_model_module_version": "1.5.0",
            "_model_name": "HTMLModel",
            "_view_count": null,
            "_view_module": "@jupyter-widgets/controls",
            "_view_module_version": "1.5.0",
            "_view_name": "HTMLView",
            "description": "",
            "description_tooltip": null,
            "layout": "IPY_MODEL_aeacb22b97f046dab4cded1beeb4c510",
            "placeholder": "​",
            "style": "IPY_MODEL_9debe50a121b4ff291f847a26a0079d2",
            "value": " 28881/28881 [00:00&lt;00:00, 1791842.11it/s]"
          }
        },
        "2d13503336294a999e8b68e787330b4d": {
          "model_module": "@jupyter-widgets/base",
          "model_name": "LayoutModel",
          "model_module_version": "1.2.0",
          "state": {
            "_model_module": "@jupyter-widgets/base",
            "_model_module_version": "1.2.0",
            "_model_name": "LayoutModel",
            "_view_count": null,
            "_view_module": "@jupyter-widgets/base",
            "_view_module_version": "1.2.0",
            "_view_name": "LayoutView",
            "align_content": null,
            "align_items": null,
            "align_self": null,
            "border": null,
            "bottom": null,
            "display": null,
            "flex": null,
            "flex_flow": null,
            "grid_area": null,
            "grid_auto_columns": null,
            "grid_auto_flow": null,
            "grid_auto_rows": null,
            "grid_column": null,
            "grid_gap": null,
            "grid_row": null,
            "grid_template_areas": null,
            "grid_template_columns": null,
            "grid_template_rows": null,
            "height": null,
            "justify_content": null,
            "justify_items": null,
            "left": null,
            "margin": null,
            "max_height": null,
            "max_width": null,
            "min_height": null,
            "min_width": null,
            "object_fit": null,
            "object_position": null,
            "order": null,
            "overflow": null,
            "overflow_x": null,
            "overflow_y": null,
            "padding": null,
            "right": null,
            "top": null,
            "visibility": null,
            "width": null
          }
        },
        "9e9d15971f0549e69e7f9babb85014da": {
          "model_module": "@jupyter-widgets/base",
          "model_name": "LayoutModel",
          "model_module_version": "1.2.0",
          "state": {
            "_model_module": "@jupyter-widgets/base",
            "_model_module_version": "1.2.0",
            "_model_name": "LayoutModel",
            "_view_count": null,
            "_view_module": "@jupyter-widgets/base",
            "_view_module_version": "1.2.0",
            "_view_name": "LayoutView",
            "align_content": null,
            "align_items": null,
            "align_self": null,
            "border": null,
            "bottom": null,
            "display": null,
            "flex": null,
            "flex_flow": null,
            "grid_area": null,
            "grid_auto_columns": null,
            "grid_auto_flow": null,
            "grid_auto_rows": null,
            "grid_column": null,
            "grid_gap": null,
            "grid_row": null,
            "grid_template_areas": null,
            "grid_template_columns": null,
            "grid_template_rows": null,
            "height": null,
            "justify_content": null,
            "justify_items": null,
            "left": null,
            "margin": null,
            "max_height": null,
            "max_width": null,
            "min_height": null,
            "min_width": null,
            "object_fit": null,
            "object_position": null,
            "order": null,
            "overflow": null,
            "overflow_x": null,
            "overflow_y": null,
            "padding": null,
            "right": null,
            "top": null,
            "visibility": null,
            "width": null
          }
        },
        "ff22873798004a0b833c5c0a354a86b9": {
          "model_module": "@jupyter-widgets/controls",
          "model_name": "DescriptionStyleModel",
          "model_module_version": "1.5.0",
          "state": {
            "_model_module": "@jupyter-widgets/controls",
            "_model_module_version": "1.5.0",
            "_model_name": "DescriptionStyleModel",
            "_view_count": null,
            "_view_module": "@jupyter-widgets/base",
            "_view_module_version": "1.2.0",
            "_view_name": "StyleView",
            "description_width": ""
          }
        },
        "f7d82e673c884cf7ae8b87f545dec8e8": {
          "model_module": "@jupyter-widgets/base",
          "model_name": "LayoutModel",
          "model_module_version": "1.2.0",
          "state": {
            "_model_module": "@jupyter-widgets/base",
            "_model_module_version": "1.2.0",
            "_model_name": "LayoutModel",
            "_view_count": null,
            "_view_module": "@jupyter-widgets/base",
            "_view_module_version": "1.2.0",
            "_view_name": "LayoutView",
            "align_content": null,
            "align_items": null,
            "align_self": null,
            "border": null,
            "bottom": null,
            "display": null,
            "flex": null,
            "flex_flow": null,
            "grid_area": null,
            "grid_auto_columns": null,
            "grid_auto_flow": null,
            "grid_auto_rows": null,
            "grid_column": null,
            "grid_gap": null,
            "grid_row": null,
            "grid_template_areas": null,
            "grid_template_columns": null,
            "grid_template_rows": null,
            "height": null,
            "justify_content": null,
            "justify_items": null,
            "left": null,
            "margin": null,
            "max_height": null,
            "max_width": null,
            "min_height": null,
            "min_width": null,
            "object_fit": null,
            "object_position": null,
            "order": null,
            "overflow": null,
            "overflow_x": null,
            "overflow_y": null,
            "padding": null,
            "right": null,
            "top": null,
            "visibility": null,
            "width": null
          }
        },
        "35a68bea039040b29ac8283d24625847": {
          "model_module": "@jupyter-widgets/controls",
          "model_name": "ProgressStyleModel",
          "model_module_version": "1.5.0",
          "state": {
            "_model_module": "@jupyter-widgets/controls",
            "_model_module_version": "1.5.0",
            "_model_name": "ProgressStyleModel",
            "_view_count": null,
            "_view_module": "@jupyter-widgets/base",
            "_view_module_version": "1.2.0",
            "_view_name": "StyleView",
            "bar_color": null,
            "description_width": ""
          }
        },
        "aeacb22b97f046dab4cded1beeb4c510": {
          "model_module": "@jupyter-widgets/base",
          "model_name": "LayoutModel",
          "model_module_version": "1.2.0",
          "state": {
            "_model_module": "@jupyter-widgets/base",
            "_model_module_version": "1.2.0",
            "_model_name": "LayoutModel",
            "_view_count": null,
            "_view_module": "@jupyter-widgets/base",
            "_view_module_version": "1.2.0",
            "_view_name": "LayoutView",
            "align_content": null,
            "align_items": null,
            "align_self": null,
            "border": null,
            "bottom": null,
            "display": null,
            "flex": null,
            "flex_flow": null,
            "grid_area": null,
            "grid_auto_columns": null,
            "grid_auto_flow": null,
            "grid_auto_rows": null,
            "grid_column": null,
            "grid_gap": null,
            "grid_row": null,
            "grid_template_areas": null,
            "grid_template_columns": null,
            "grid_template_rows": null,
            "height": null,
            "justify_content": null,
            "justify_items": null,
            "left": null,
            "margin": null,
            "max_height": null,
            "max_width": null,
            "min_height": null,
            "min_width": null,
            "object_fit": null,
            "object_position": null,
            "order": null,
            "overflow": null,
            "overflow_x": null,
            "overflow_y": null,
            "padding": null,
            "right": null,
            "top": null,
            "visibility": null,
            "width": null
          }
        },
        "9debe50a121b4ff291f847a26a0079d2": {
          "model_module": "@jupyter-widgets/controls",
          "model_name": "DescriptionStyleModel",
          "model_module_version": "1.5.0",
          "state": {
            "_model_module": "@jupyter-widgets/controls",
            "_model_module_version": "1.5.0",
            "_model_name": "DescriptionStyleModel",
            "_view_count": null,
            "_view_module": "@jupyter-widgets/base",
            "_view_module_version": "1.2.0",
            "_view_name": "StyleView",
            "description_width": ""
          }
        },
        "703f7f560925424d87f46d77fc8e5dbe": {
          "model_module": "@jupyter-widgets/controls",
          "model_name": "HBoxModel",
          "model_module_version": "1.5.0",
          "state": {
            "_dom_classes": [],
            "_model_module": "@jupyter-widgets/controls",
            "_model_module_version": "1.5.0",
            "_model_name": "HBoxModel",
            "_view_count": null,
            "_view_module": "@jupyter-widgets/controls",
            "_view_module_version": "1.5.0",
            "_view_name": "HBoxView",
            "box_style": "",
            "children": [
              "IPY_MODEL_367f11a5d6cb438d8f279cf743b6fc45",
              "IPY_MODEL_f1739ef7162b48b0be6d8931630ab677",
              "IPY_MODEL_9f12691e5b19492bac263b9ed2c63b1c"
            ],
            "layout": "IPY_MODEL_dc0f30ad3374482986e701400175d9fe"
          }
        },
        "367f11a5d6cb438d8f279cf743b6fc45": {
          "model_module": "@jupyter-widgets/controls",
          "model_name": "HTMLModel",
          "model_module_version": "1.5.0",
          "state": {
            "_dom_classes": [],
            "_model_module": "@jupyter-widgets/controls",
            "_model_module_version": "1.5.0",
            "_model_name": "HTMLModel",
            "_view_count": null,
            "_view_module": "@jupyter-widgets/controls",
            "_view_module_version": "1.5.0",
            "_view_name": "HTMLView",
            "description": "",
            "description_tooltip": null,
            "layout": "IPY_MODEL_f968af2b1a17460b93103ae6f46031a8",
            "placeholder": "​",
            "style": "IPY_MODEL_8970835e3ab9424cb5d43c85671cbdf4",
            "value": "100%"
          }
        },
        "f1739ef7162b48b0be6d8931630ab677": {
          "model_module": "@jupyter-widgets/controls",
          "model_name": "FloatProgressModel",
          "model_module_version": "1.5.0",
          "state": {
            "_dom_classes": [],
            "_model_module": "@jupyter-widgets/controls",
            "_model_module_version": "1.5.0",
            "_model_name": "FloatProgressModel",
            "_view_count": null,
            "_view_module": "@jupyter-widgets/controls",
            "_view_module_version": "1.5.0",
            "_view_name": "ProgressView",
            "bar_style": "success",
            "description": "",
            "description_tooltip": null,
            "layout": "IPY_MODEL_fb7afcd60d78444cbe54df7b11e05537",
            "max": 1648877,
            "min": 0,
            "orientation": "horizontal",
            "style": "IPY_MODEL_b3ba6835a4b04daba7e5b9880d8c96f0",
            "value": 1648877
          }
        },
        "9f12691e5b19492bac263b9ed2c63b1c": {
          "model_module": "@jupyter-widgets/controls",
          "model_name": "HTMLModel",
          "model_module_version": "1.5.0",
          "state": {
            "_dom_classes": [],
            "_model_module": "@jupyter-widgets/controls",
            "_model_module_version": "1.5.0",
            "_model_name": "HTMLModel",
            "_view_count": null,
            "_view_module": "@jupyter-widgets/controls",
            "_view_module_version": "1.5.0",
            "_view_name": "HTMLView",
            "description": "",
            "description_tooltip": null,
            "layout": "IPY_MODEL_a1da896ea00242d1a74b21c62ad0c60e",
            "placeholder": "​",
            "style": "IPY_MODEL_743eb367224a44cc912083741ceab1af",
            "value": " 1648877/1648877 [00:00&lt;00:00, 41993389.98it/s]"
          }
        },
        "dc0f30ad3374482986e701400175d9fe": {
          "model_module": "@jupyter-widgets/base",
          "model_name": "LayoutModel",
          "model_module_version": "1.2.0",
          "state": {
            "_model_module": "@jupyter-widgets/base",
            "_model_module_version": "1.2.0",
            "_model_name": "LayoutModel",
            "_view_count": null,
            "_view_module": "@jupyter-widgets/base",
            "_view_module_version": "1.2.0",
            "_view_name": "LayoutView",
            "align_content": null,
            "align_items": null,
            "align_self": null,
            "border": null,
            "bottom": null,
            "display": null,
            "flex": null,
            "flex_flow": null,
            "grid_area": null,
            "grid_auto_columns": null,
            "grid_auto_flow": null,
            "grid_auto_rows": null,
            "grid_column": null,
            "grid_gap": null,
            "grid_row": null,
            "grid_template_areas": null,
            "grid_template_columns": null,
            "grid_template_rows": null,
            "height": null,
            "justify_content": null,
            "justify_items": null,
            "left": null,
            "margin": null,
            "max_height": null,
            "max_width": null,
            "min_height": null,
            "min_width": null,
            "object_fit": null,
            "object_position": null,
            "order": null,
            "overflow": null,
            "overflow_x": null,
            "overflow_y": null,
            "padding": null,
            "right": null,
            "top": null,
            "visibility": null,
            "width": null
          }
        },
        "f968af2b1a17460b93103ae6f46031a8": {
          "model_module": "@jupyter-widgets/base",
          "model_name": "LayoutModel",
          "model_module_version": "1.2.0",
          "state": {
            "_model_module": "@jupyter-widgets/base",
            "_model_module_version": "1.2.0",
            "_model_name": "LayoutModel",
            "_view_count": null,
            "_view_module": "@jupyter-widgets/base",
            "_view_module_version": "1.2.0",
            "_view_name": "LayoutView",
            "align_content": null,
            "align_items": null,
            "align_self": null,
            "border": null,
            "bottom": null,
            "display": null,
            "flex": null,
            "flex_flow": null,
            "grid_area": null,
            "grid_auto_columns": null,
            "grid_auto_flow": null,
            "grid_auto_rows": null,
            "grid_column": null,
            "grid_gap": null,
            "grid_row": null,
            "grid_template_areas": null,
            "grid_template_columns": null,
            "grid_template_rows": null,
            "height": null,
            "justify_content": null,
            "justify_items": null,
            "left": null,
            "margin": null,
            "max_height": null,
            "max_width": null,
            "min_height": null,
            "min_width": null,
            "object_fit": null,
            "object_position": null,
            "order": null,
            "overflow": null,
            "overflow_x": null,
            "overflow_y": null,
            "padding": null,
            "right": null,
            "top": null,
            "visibility": null,
            "width": null
          }
        },
        "8970835e3ab9424cb5d43c85671cbdf4": {
          "model_module": "@jupyter-widgets/controls",
          "model_name": "DescriptionStyleModel",
          "model_module_version": "1.5.0",
          "state": {
            "_model_module": "@jupyter-widgets/controls",
            "_model_module_version": "1.5.0",
            "_model_name": "DescriptionStyleModel",
            "_view_count": null,
            "_view_module": "@jupyter-widgets/base",
            "_view_module_version": "1.2.0",
            "_view_name": "StyleView",
            "description_width": ""
          }
        },
        "fb7afcd60d78444cbe54df7b11e05537": {
          "model_module": "@jupyter-widgets/base",
          "model_name": "LayoutModel",
          "model_module_version": "1.2.0",
          "state": {
            "_model_module": "@jupyter-widgets/base",
            "_model_module_version": "1.2.0",
            "_model_name": "LayoutModel",
            "_view_count": null,
            "_view_module": "@jupyter-widgets/base",
            "_view_module_version": "1.2.0",
            "_view_name": "LayoutView",
            "align_content": null,
            "align_items": null,
            "align_self": null,
            "border": null,
            "bottom": null,
            "display": null,
            "flex": null,
            "flex_flow": null,
            "grid_area": null,
            "grid_auto_columns": null,
            "grid_auto_flow": null,
            "grid_auto_rows": null,
            "grid_column": null,
            "grid_gap": null,
            "grid_row": null,
            "grid_template_areas": null,
            "grid_template_columns": null,
            "grid_template_rows": null,
            "height": null,
            "justify_content": null,
            "justify_items": null,
            "left": null,
            "margin": null,
            "max_height": null,
            "max_width": null,
            "min_height": null,
            "min_width": null,
            "object_fit": null,
            "object_position": null,
            "order": null,
            "overflow": null,
            "overflow_x": null,
            "overflow_y": null,
            "padding": null,
            "right": null,
            "top": null,
            "visibility": null,
            "width": null
          }
        },
        "b3ba6835a4b04daba7e5b9880d8c96f0": {
          "model_module": "@jupyter-widgets/controls",
          "model_name": "ProgressStyleModel",
          "model_module_version": "1.5.0",
          "state": {
            "_model_module": "@jupyter-widgets/controls",
            "_model_module_version": "1.5.0",
            "_model_name": "ProgressStyleModel",
            "_view_count": null,
            "_view_module": "@jupyter-widgets/base",
            "_view_module_version": "1.2.0",
            "_view_name": "StyleView",
            "bar_color": null,
            "description_width": ""
          }
        },
        "a1da896ea00242d1a74b21c62ad0c60e": {
          "model_module": "@jupyter-widgets/base",
          "model_name": "LayoutModel",
          "model_module_version": "1.2.0",
          "state": {
            "_model_module": "@jupyter-widgets/base",
            "_model_module_version": "1.2.0",
            "_model_name": "LayoutModel",
            "_view_count": null,
            "_view_module": "@jupyter-widgets/base",
            "_view_module_version": "1.2.0",
            "_view_name": "LayoutView",
            "align_content": null,
            "align_items": null,
            "align_self": null,
            "border": null,
            "bottom": null,
            "display": null,
            "flex": null,
            "flex_flow": null,
            "grid_area": null,
            "grid_auto_columns": null,
            "grid_auto_flow": null,
            "grid_auto_rows": null,
            "grid_column": null,
            "grid_gap": null,
            "grid_row": null,
            "grid_template_areas": null,
            "grid_template_columns": null,
            "grid_template_rows": null,
            "height": null,
            "justify_content": null,
            "justify_items": null,
            "left": null,
            "margin": null,
            "max_height": null,
            "max_width": null,
            "min_height": null,
            "min_width": null,
            "object_fit": null,
            "object_position": null,
            "order": null,
            "overflow": null,
            "overflow_x": null,
            "overflow_y": null,
            "padding": null,
            "right": null,
            "top": null,
            "visibility": null,
            "width": null
          }
        },
        "743eb367224a44cc912083741ceab1af": {
          "model_module": "@jupyter-widgets/controls",
          "model_name": "DescriptionStyleModel",
          "model_module_version": "1.5.0",
          "state": {
            "_model_module": "@jupyter-widgets/controls",
            "_model_module_version": "1.5.0",
            "_model_name": "DescriptionStyleModel",
            "_view_count": null,
            "_view_module": "@jupyter-widgets/base",
            "_view_module_version": "1.2.0",
            "_view_name": "StyleView",
            "description_width": ""
          }
        },
        "aa3ce5d695934650943d0db13311e5e0": {
          "model_module": "@jupyter-widgets/controls",
          "model_name": "HBoxModel",
          "model_module_version": "1.5.0",
          "state": {
            "_dom_classes": [],
            "_model_module": "@jupyter-widgets/controls",
            "_model_module_version": "1.5.0",
            "_model_name": "HBoxModel",
            "_view_count": null,
            "_view_module": "@jupyter-widgets/controls",
            "_view_module_version": "1.5.0",
            "_view_name": "HBoxView",
            "box_style": "",
            "children": [
              "IPY_MODEL_93b1671d0e194df4a640d591441729c1",
              "IPY_MODEL_a38addc476fb4e8085b7266b867c85c5",
              "IPY_MODEL_512efa7b5d514c20bbf7a1213cfb2df7"
            ],
            "layout": "IPY_MODEL_362f60ceeebd4ab484bb5aace03f7617"
          }
        },
        "93b1671d0e194df4a640d591441729c1": {
          "model_module": "@jupyter-widgets/controls",
          "model_name": "HTMLModel",
          "model_module_version": "1.5.0",
          "state": {
            "_dom_classes": [],
            "_model_module": "@jupyter-widgets/controls",
            "_model_module_version": "1.5.0",
            "_model_name": "HTMLModel",
            "_view_count": null,
            "_view_module": "@jupyter-widgets/controls",
            "_view_module_version": "1.5.0",
            "_view_name": "HTMLView",
            "description": "",
            "description_tooltip": null,
            "layout": "IPY_MODEL_0204d3b6782741789ea8c77b708f47a5",
            "placeholder": "​",
            "style": "IPY_MODEL_e87098a7975243fa928aa62a47d758ee",
            "value": "100%"
          }
        },
        "a38addc476fb4e8085b7266b867c85c5": {
          "model_module": "@jupyter-widgets/controls",
          "model_name": "FloatProgressModel",
          "model_module_version": "1.5.0",
          "state": {
            "_dom_classes": [],
            "_model_module": "@jupyter-widgets/controls",
            "_model_module_version": "1.5.0",
            "_model_name": "FloatProgressModel",
            "_view_count": null,
            "_view_module": "@jupyter-widgets/controls",
            "_view_module_version": "1.5.0",
            "_view_name": "ProgressView",
            "bar_style": "success",
            "description": "",
            "description_tooltip": null,
            "layout": "IPY_MODEL_7fc2191ddc304250957b7f95396e3e31",
            "max": 4542,
            "min": 0,
            "orientation": "horizontal",
            "style": "IPY_MODEL_45bb8912bde64f03b0596b04bfdc143b",
            "value": 4542
          }
        },
        "512efa7b5d514c20bbf7a1213cfb2df7": {
          "model_module": "@jupyter-widgets/controls",
          "model_name": "HTMLModel",
          "model_module_version": "1.5.0",
          "state": {
            "_dom_classes": [],
            "_model_module": "@jupyter-widgets/controls",
            "_model_module_version": "1.5.0",
            "_model_name": "HTMLModel",
            "_view_count": null,
            "_view_module": "@jupyter-widgets/controls",
            "_view_module_version": "1.5.0",
            "_view_name": "HTMLView",
            "description": "",
            "description_tooltip": null,
            "layout": "IPY_MODEL_dd3eadf5d34f440f9bc345d6b89757c2",
            "placeholder": "​",
            "style": "IPY_MODEL_0a9bef0abadb423d847b3c46925c5d6c",
            "value": " 4542/4542 [00:00&lt;00:00, 291859.25it/s]"
          }
        },
        "362f60ceeebd4ab484bb5aace03f7617": {
          "model_module": "@jupyter-widgets/base",
          "model_name": "LayoutModel",
          "model_module_version": "1.2.0",
          "state": {
            "_model_module": "@jupyter-widgets/base",
            "_model_module_version": "1.2.0",
            "_model_name": "LayoutModel",
            "_view_count": null,
            "_view_module": "@jupyter-widgets/base",
            "_view_module_version": "1.2.0",
            "_view_name": "LayoutView",
            "align_content": null,
            "align_items": null,
            "align_self": null,
            "border": null,
            "bottom": null,
            "display": null,
            "flex": null,
            "flex_flow": null,
            "grid_area": null,
            "grid_auto_columns": null,
            "grid_auto_flow": null,
            "grid_auto_rows": null,
            "grid_column": null,
            "grid_gap": null,
            "grid_row": null,
            "grid_template_areas": null,
            "grid_template_columns": null,
            "grid_template_rows": null,
            "height": null,
            "justify_content": null,
            "justify_items": null,
            "left": null,
            "margin": null,
            "max_height": null,
            "max_width": null,
            "min_height": null,
            "min_width": null,
            "object_fit": null,
            "object_position": null,
            "order": null,
            "overflow": null,
            "overflow_x": null,
            "overflow_y": null,
            "padding": null,
            "right": null,
            "top": null,
            "visibility": null,
            "width": null
          }
        },
        "0204d3b6782741789ea8c77b708f47a5": {
          "model_module": "@jupyter-widgets/base",
          "model_name": "LayoutModel",
          "model_module_version": "1.2.0",
          "state": {
            "_model_module": "@jupyter-widgets/base",
            "_model_module_version": "1.2.0",
            "_model_name": "LayoutModel",
            "_view_count": null,
            "_view_module": "@jupyter-widgets/base",
            "_view_module_version": "1.2.0",
            "_view_name": "LayoutView",
            "align_content": null,
            "align_items": null,
            "align_self": null,
            "border": null,
            "bottom": null,
            "display": null,
            "flex": null,
            "flex_flow": null,
            "grid_area": null,
            "grid_auto_columns": null,
            "grid_auto_flow": null,
            "grid_auto_rows": null,
            "grid_column": null,
            "grid_gap": null,
            "grid_row": null,
            "grid_template_areas": null,
            "grid_template_columns": null,
            "grid_template_rows": null,
            "height": null,
            "justify_content": null,
            "justify_items": null,
            "left": null,
            "margin": null,
            "max_height": null,
            "max_width": null,
            "min_height": null,
            "min_width": null,
            "object_fit": null,
            "object_position": null,
            "order": null,
            "overflow": null,
            "overflow_x": null,
            "overflow_y": null,
            "padding": null,
            "right": null,
            "top": null,
            "visibility": null,
            "width": null
          }
        },
        "e87098a7975243fa928aa62a47d758ee": {
          "model_module": "@jupyter-widgets/controls",
          "model_name": "DescriptionStyleModel",
          "model_module_version": "1.5.0",
          "state": {
            "_model_module": "@jupyter-widgets/controls",
            "_model_module_version": "1.5.0",
            "_model_name": "DescriptionStyleModel",
            "_view_count": null,
            "_view_module": "@jupyter-widgets/base",
            "_view_module_version": "1.2.0",
            "_view_name": "StyleView",
            "description_width": ""
          }
        },
        "7fc2191ddc304250957b7f95396e3e31": {
          "model_module": "@jupyter-widgets/base",
          "model_name": "LayoutModel",
          "model_module_version": "1.2.0",
          "state": {
            "_model_module": "@jupyter-widgets/base",
            "_model_module_version": "1.2.0",
            "_model_name": "LayoutModel",
            "_view_count": null,
            "_view_module": "@jupyter-widgets/base",
            "_view_module_version": "1.2.0",
            "_view_name": "LayoutView",
            "align_content": null,
            "align_items": null,
            "align_self": null,
            "border": null,
            "bottom": null,
            "display": null,
            "flex": null,
            "flex_flow": null,
            "grid_area": null,
            "grid_auto_columns": null,
            "grid_auto_flow": null,
            "grid_auto_rows": null,
            "grid_column": null,
            "grid_gap": null,
            "grid_row": null,
            "grid_template_areas": null,
            "grid_template_columns": null,
            "grid_template_rows": null,
            "height": null,
            "justify_content": null,
            "justify_items": null,
            "left": null,
            "margin": null,
            "max_height": null,
            "max_width": null,
            "min_height": null,
            "min_width": null,
            "object_fit": null,
            "object_position": null,
            "order": null,
            "overflow": null,
            "overflow_x": null,
            "overflow_y": null,
            "padding": null,
            "right": null,
            "top": null,
            "visibility": null,
            "width": null
          }
        },
        "45bb8912bde64f03b0596b04bfdc143b": {
          "model_module": "@jupyter-widgets/controls",
          "model_name": "ProgressStyleModel",
          "model_module_version": "1.5.0",
          "state": {
            "_model_module": "@jupyter-widgets/controls",
            "_model_module_version": "1.5.0",
            "_model_name": "ProgressStyleModel",
            "_view_count": null,
            "_view_module": "@jupyter-widgets/base",
            "_view_module_version": "1.2.0",
            "_view_name": "StyleView",
            "bar_color": null,
            "description_width": ""
          }
        },
        "dd3eadf5d34f440f9bc345d6b89757c2": {
          "model_module": "@jupyter-widgets/base",
          "model_name": "LayoutModel",
          "model_module_version": "1.2.0",
          "state": {
            "_model_module": "@jupyter-widgets/base",
            "_model_module_version": "1.2.0",
            "_model_name": "LayoutModel",
            "_view_count": null,
            "_view_module": "@jupyter-widgets/base",
            "_view_module_version": "1.2.0",
            "_view_name": "LayoutView",
            "align_content": null,
            "align_items": null,
            "align_self": null,
            "border": null,
            "bottom": null,
            "display": null,
            "flex": null,
            "flex_flow": null,
            "grid_area": null,
            "grid_auto_columns": null,
            "grid_auto_flow": null,
            "grid_auto_rows": null,
            "grid_column": null,
            "grid_gap": null,
            "grid_row": null,
            "grid_template_areas": null,
            "grid_template_columns": null,
            "grid_template_rows": null,
            "height": null,
            "justify_content": null,
            "justify_items": null,
            "left": null,
            "margin": null,
            "max_height": null,
            "max_width": null,
            "min_height": null,
            "min_width": null,
            "object_fit": null,
            "object_position": null,
            "order": null,
            "overflow": null,
            "overflow_x": null,
            "overflow_y": null,
            "padding": null,
            "right": null,
            "top": null,
            "visibility": null,
            "width": null
          }
        },
        "0a9bef0abadb423d847b3c46925c5d6c": {
          "model_module": "@jupyter-widgets/controls",
          "model_name": "DescriptionStyleModel",
          "model_module_version": "1.5.0",
          "state": {
            "_model_module": "@jupyter-widgets/controls",
            "_model_module_version": "1.5.0",
            "_model_name": "DescriptionStyleModel",
            "_view_count": null,
            "_view_module": "@jupyter-widgets/base",
            "_view_module_version": "1.2.0",
            "_view_name": "StyleView",
            "description_width": ""
          }
        }
      }
    }
  },
  "cells": [
    {
      "cell_type": "markdown",
      "source": [
        "#**Simple Residual Classifier**\n"
      ],
      "metadata": {
        "id": "l8MtuN4f5fFt"
      }
    },
    {
      "cell_type": "markdown",
      "source": [
        "In this notebook, we will train and test a simple residual classifier on MNIST dataset. Architecture of the network is as follow:\n",
        "\n",
        "![Architecture.png](data:image/png;base64,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)"
      ],
      "metadata": {
        "id": "PEAu8E3P5s8K"
      }
    },
    {
      "cell_type": "code",
      "source": [
        "import torch\n",
        "from torch import nn\n",
        "from torch.nn import functional as F\n",
        "from torch.utils.data import Dataset, DataLoader, random_split\n",
        "from torchvision import transforms, datasets\n",
        "\n",
        "from tqdm import tqdm\n",
        "import numpy as np\n",
        "import pandas as pd\n",
        "import matplotlib.pyplot as plt\n",
        "\n",
        "plt.style.use('ggplot')\n",
        "from torch.nn import Conv2d\n",
        "\n",
        "device = torch.device('cuda' if torch.cuda.is_available() else 'cpu')\n",
        "device"
      ],
      "metadata": {
        "colab": {
          "base_uri": "https://localhost:8080/"
        },
        "id": "bdje3ERC6ukK",
        "outputId": "09790617-1253-45fc-97d9-bd52dbee3dd0"
      },
      "execution_count": 1,
      "outputs": [
        {
          "output_type": "execute_result",
          "data": {
            "text/plain": [
              "device(type='cuda')"
            ]
          },
          "metadata": {},
          "execution_count": 1
        }
      ]
    },
    {
      "cell_type": "markdown",
      "source": [
        "To load the dataset and pass it to the network, we use Pytorch built in dataloader:"
      ],
      "metadata": {
        "id": "EDwpwcKM66wQ"
      }
    },
    {
      "cell_type": "code",
      "source": [
        "transformation = transforms.Compose([transforms.PILToTensor(),transforms.ConvertImageDtype(torch.float),transforms.Normalize(mean=[0.1307],std=[0.3081])])\n",
        "mnist_data = datasets.MNIST(root='data/', download=True, transform=transformation)\n",
        "train_data, valid_data = random_split(mnist_data, [50000, 10000]) \n",
        "train_loader = DataLoader(train_data,batch_size=16,shuffle=True)\n",
        "val_loader = DataLoader(valid_data,batch_size=16,shuffle=True)"
      ],
      "metadata": {
        "colab": {
          "base_uri": "https://localhost:8080/",
          "height": 423,
          "referenced_widgets": [
            "2605a22165f1495e9a07adf4ef158714",
            "fe4109b8d9f54376a490906e663942bf",
            "e4b99a364dfa4013849615279ff60173",
            "175a2849bc34423aade94bd4fccacea5",
            "b9dde9ed76034e2b9345f974fb904974",
            "61d964d7d41c4dd1ab855c86aa19d011",
            "e56be37ec0974747ae5f0b51c1d71300",
            "8b54bfc634cf4ab183ed9edc0fe3beab",
            "cee6ce525a324d0692fa7f62aa1dedc0",
            "365d075a90c44bd290055881680c5fd6",
            "4202d4d5a1bc453f964d3d46e11fa879",
            "32974e50bd3f4b1c87526bc100c1b839",
            "91ea26865f714358810f27717471a211",
            "f4a91a95bca34fffa290e1cc5a1c426d",
            "558149573d8e448e86e1b8fe9c7ef214",
            "2d13503336294a999e8b68e787330b4d",
            "9e9d15971f0549e69e7f9babb85014da",
            "ff22873798004a0b833c5c0a354a86b9",
            "f7d82e673c884cf7ae8b87f545dec8e8",
            "35a68bea039040b29ac8283d24625847",
            "aeacb22b97f046dab4cded1beeb4c510",
            "9debe50a121b4ff291f847a26a0079d2",
            "703f7f560925424d87f46d77fc8e5dbe",
            "367f11a5d6cb438d8f279cf743b6fc45",
            "f1739ef7162b48b0be6d8931630ab677",
            "9f12691e5b19492bac263b9ed2c63b1c",
            "dc0f30ad3374482986e701400175d9fe",
            "f968af2b1a17460b93103ae6f46031a8",
            "8970835e3ab9424cb5d43c85671cbdf4",
            "fb7afcd60d78444cbe54df7b11e05537",
            "b3ba6835a4b04daba7e5b9880d8c96f0",
            "a1da896ea00242d1a74b21c62ad0c60e",
            "743eb367224a44cc912083741ceab1af",
            "aa3ce5d695934650943d0db13311e5e0",
            "93b1671d0e194df4a640d591441729c1",
            "a38addc476fb4e8085b7266b867c85c5",
            "512efa7b5d514c20bbf7a1213cfb2df7",
            "362f60ceeebd4ab484bb5aace03f7617",
            "0204d3b6782741789ea8c77b708f47a5",
            "e87098a7975243fa928aa62a47d758ee",
            "7fc2191ddc304250957b7f95396e3e31",
            "45bb8912bde64f03b0596b04bfdc143b",
            "dd3eadf5d34f440f9bc345d6b89757c2",
            "0a9bef0abadb423d847b3c46925c5d6c"
          ]
        },
        "id": "vC1HrSlz7IeU",
        "outputId": "31992bbc-0edb-4dfd-b12b-3e200b05b52b"
      },
      "execution_count": 2,
      "outputs": [
        {
          "output_type": "stream",
          "name": "stdout",
          "text": [
            "Downloading http://yann.lecun.com/exdb/mnist/train-images-idx3-ubyte.gz\n",
            "Downloading http://yann.lecun.com/exdb/mnist/train-images-idx3-ubyte.gz to data/MNIST/raw/train-images-idx3-ubyte.gz\n"
          ]
        },
        {
          "output_type": "display_data",
          "data": {
            "text/plain": [
              "  0%|          | 0/9912422 [00:00<?, ?it/s]"
            ],
            "application/vnd.jupyter.widget-view+json": {
              "version_major": 2,
              "version_minor": 0,
              "model_id": "2605a22165f1495e9a07adf4ef158714"
            }
          },
          "metadata": {}
        },
        {
          "output_type": "stream",
          "name": "stdout",
          "text": [
            "Extracting data/MNIST/raw/train-images-idx3-ubyte.gz to data/MNIST/raw\n",
            "\n",
            "Downloading http://yann.lecun.com/exdb/mnist/train-labels-idx1-ubyte.gz\n",
            "Downloading http://yann.lecun.com/exdb/mnist/train-labels-idx1-ubyte.gz to data/MNIST/raw/train-labels-idx1-ubyte.gz\n"
          ]
        },
        {
          "output_type": "display_data",
          "data": {
            "text/plain": [
              "  0%|          | 0/28881 [00:00<?, ?it/s]"
            ],
            "application/vnd.jupyter.widget-view+json": {
              "version_major": 2,
              "version_minor": 0,
              "model_id": "32974e50bd3f4b1c87526bc100c1b839"
            }
          },
          "metadata": {}
        },
        {
          "output_type": "stream",
          "name": "stdout",
          "text": [
            "Extracting data/MNIST/raw/train-labels-idx1-ubyte.gz to data/MNIST/raw\n",
            "\n",
            "Downloading http://yann.lecun.com/exdb/mnist/t10k-images-idx3-ubyte.gz\n",
            "Downloading http://yann.lecun.com/exdb/mnist/t10k-images-idx3-ubyte.gz to data/MNIST/raw/t10k-images-idx3-ubyte.gz\n"
          ]
        },
        {
          "output_type": "display_data",
          "data": {
            "text/plain": [
              "  0%|          | 0/1648877 [00:00<?, ?it/s]"
            ],
            "application/vnd.jupyter.widget-view+json": {
              "version_major": 2,
              "version_minor": 0,
              "model_id": "703f7f560925424d87f46d77fc8e5dbe"
            }
          },
          "metadata": {}
        },
        {
          "output_type": "stream",
          "name": "stdout",
          "text": [
            "Extracting data/MNIST/raw/t10k-images-idx3-ubyte.gz to data/MNIST/raw\n",
            "\n",
            "Downloading http://yann.lecun.com/exdb/mnist/t10k-labels-idx1-ubyte.gz\n",
            "Downloading http://yann.lecun.com/exdb/mnist/t10k-labels-idx1-ubyte.gz to data/MNIST/raw/t10k-labels-idx1-ubyte.gz\n"
          ]
        },
        {
          "output_type": "display_data",
          "data": {
            "text/plain": [
              "  0%|          | 0/4542 [00:00<?, ?it/s]"
            ],
            "application/vnd.jupyter.widget-view+json": {
              "version_major": 2,
              "version_minor": 0,
              "model_id": "aa3ce5d695934650943d0db13311e5e0"
            }
          },
          "metadata": {}
        },
        {
          "output_type": "stream",
          "name": "stdout",
          "text": [
            "Extracting data/MNIST/raw/t10k-labels-idx1-ubyte.gz to data/MNIST/raw\n",
            "\n"
          ]
        }
      ]
    },
    {
      "cell_type": "markdown",
      "source": [
        "Now we can create our model and perform the training:"
      ],
      "metadata": {
        "id": "yQiP0lVt8kno"
      }
    },
    {
      "cell_type": "code",
      "source": [
        "from SimpleResidualClassifier import SimpleResidualClassifier\n",
        "model = SimpleResidualClassifier(1).to(device)\n",
        "criterion = nn.CrossEntropyLoss() \n",
        "optimizer = torch.optim.Adam(model.parameters())\n",
        "\n",
        "# training the model\n",
        "num_epochs = 20\n",
        "losses=[]\n",
        "accurracy=[]\n",
        "for epoch in range(num_epochs):\n",
        "    for images, labels in train_loader: \n",
        "        images,labels=images.to(device),labels.to(device) \n",
        "        outputs = model(images)\n",
        "        loss = criterion(outputs, labels)\n",
        "        optimizer.zero_grad()\n",
        "        loss.backward()\n",
        "        optimizer.step()\n",
        "        \n",
        "\n",
        "    with torch.no_grad():\n",
        "        model.eval()\n",
        "        N = 0\n",
        "        tot_loss, correct = 0.0, 0.0\n",
        "\n",
        "        for images, labels in val_loader:\n",
        "            images,labels=images.to(device),labels.to(device)\n",
        "            outputs = model(images)\n",
        "            N += images.shape[0]\n",
        "\n",
        "            tot_loss += images.shape[0] * criterion(outputs, labels).item()\n",
        "\n",
        "            predicted_targets = outputs.argmax(dim=1)\n",
        "            correct += (predicted_targets == labels).sum().item()\n",
        "        losses.append(tot_loss/N)\n",
        "        accurracy.append(correct/N)\n",
        "        print('Epoch ',epoch,'==> Validation loss: ',tot_loss/N,', Accuracy: ',correct/N)\n",
        "\n"
      ],
      "metadata": {
        "colab": {
          "base_uri": "https://localhost:8080/"
        },
        "id": "i-wb7dg68tDG",
        "outputId": "60354ab4-bdaf-4d05-f30e-8d31d35cf5a6"
      },
      "execution_count": 3,
      "outputs": [
        {
          "output_type": "stream",
          "name": "stdout",
          "text": [
            "Epoch  0 ==> Validation loss:  1.427065967321396 , Accuracy:  0.3967\n",
            "Epoch  1 ==> Validation loss:  1.4061359512329101 , Accuracy:  0.4003\n",
            "Epoch  2 ==> Validation loss:  1.4200581273078918 , Accuracy:  0.398\n",
            "Epoch  3 ==> Validation loss:  1.4060803683280945 , Accuracy:  0.4\n",
            "Epoch  4 ==> Validation loss:  1.3916149354457856 , Accuracy:  0.4024\n",
            "Epoch  5 ==> Validation loss:  1.3932661054611206 , Accuracy:  0.4024\n",
            "Epoch  6 ==> Validation loss:  1.3909851565361022 , Accuracy:  0.4033\n",
            "Epoch  7 ==> Validation loss:  1.3900016227722167 , Accuracy:  0.4026\n",
            "Epoch  8 ==> Validation loss:  1.3892117315292358 , Accuracy:  0.4025\n",
            "Epoch  9 ==> Validation loss:  1.3953837010383605 , Accuracy:  0.4014\n",
            "Epoch  10 ==> Validation loss:  1.3906121395111084 , Accuracy:  0.4013\n",
            "Epoch  11 ==> Validation loss:  1.3968946866989136 , Accuracy:  0.4028\n",
            "Epoch  12 ==> Validation loss:  1.3903108143806457 , Accuracy:  0.402\n",
            "Epoch  13 ==> Validation loss:  1.398613235473633 , Accuracy:  0.4015\n",
            "Epoch  14 ==> Validation loss:  1.4058893052577972 , Accuracy:  0.4035\n",
            "Epoch  15 ==> Validation loss:  1.3892187121391297 , Accuracy:  0.4033\n",
            "Epoch  16 ==> Validation loss:  1.3937695156097412 , Accuracy:  0.4029\n",
            "Epoch  17 ==> Validation loss:  1.4171958612442017 , Accuracy:  0.4016\n",
            "Epoch  18 ==> Validation loss:  1.399074987411499 , Accuracy:  0.4024\n",
            "Epoch  19 ==> Validation loss:  1.3948745780944825 , Accuracy:  0.4039\n"
          ]
        }
      ]
    },
    {
      "cell_type": "markdown",
      "source": [
        "We can also plot loss and accuracy with respect to epoch"
      ],
      "metadata": {
        "id": "K4MPDGMV_Kky"
      }
    },
    {
      "cell_type": "code",
      "source": [
        "plt.xlabel('epochs')\n",
        "plt.ylabel('losses')\n",
        "plt.title('Losses per epoch')\n",
        "plt.plot(np.arange(1,21),losses)\n",
        "plt.show()\n",
        "\n",
        "plt.xlabel('epochs')\n",
        "plt.ylabel('accuracy')\n",
        "plt.title('Accuracy on validation data')\n",
        "plt.plot(np.arange(1,21),accurracy)\n",
        "plt.show()"
      ],
      "metadata": {
        "colab": {
          "base_uri": "https://localhost:8080/",
          "height": 581
        },
        "id": "PnQ-6QsR_PQQ",
        "outputId": "e8730492-ad0f-4871-b256-6fb1830ed274"
      },
      "execution_count": 4,
      "outputs": [
        {
          "output_type": "display_data",
          "data": {
            "text/plain": [
              "<Figure size 432x288 with 1 Axes>"
            ],
            "image/png": "[encoded data removed]"
          },
          "metadata": {}
        },
        {
          "output_type": "display_data",
          "data": {
            "text/plain": [
              "<Figure size 432x288 with 1 Axes>"
            ],
            "image/png": "[encoded data removed]"
          },
          "metadata": {}
        }
      ]
    },
    {
      "cell_type": "markdown",
      "source": [
        "Testing the model on Test data:"
      ],
      "metadata": {
        "id": "Ygbv9I9g_TeN"
      }
    },
    {
      "cell_type": "code",
      "source": [
        "test_data = datasets.MNIST(root='data/', download=True, transform=transformation, train=False)\n",
        "test_loader = DataLoader(test_data, batch_size=64, shuffle=False)\n",
        "\n",
        "y_true=np.zeros(0).astype(int)\n",
        "y_pred=np.zeros(0).astype(int)\n",
        "\n",
        "with torch.no_grad():\n",
        "        model.eval()\n",
        "        N = 0\n",
        "        tot_loss, correct = 0.0, 0.0\n",
        "\n",
        "        for images, labels in test_loader:\n",
        "            images,labels=images.to(device),labels.to(device)\n",
        "            outputs = model(images)\n",
        "            N += images.shape[0]\n",
        "            tot_loss += images.shape[0] * criterion(outputs, labels).item()\n",
        "            predicted_targets = outputs.argmax(dim=1)\n",
        "            y_true=np.append(y_true,labels.cpu().numpy(),axis=0)\n",
        "            y_pred=np.append(y_pred,predicted_targets.cpu().numpy(),axis=0)\n",
        "            correct += (predicted_targets == labels).sum().item()\n",
        "        test_loss=tot_loss/N\n",
        "        test_acc=correct/N\n",
        "\n",
        "print('Test Error: ',test_loss)\n",
        "print('Test Accuracy: ',test_acc)"
      ],
      "metadata": {
        "colab": {
          "base_uri": "https://localhost:8080/"
        },
        "id": "DiTpAMUl_Wlw",
        "outputId": "2df11acf-2e90-4c67-c44c-f6ab21f5f59e"
      },
      "execution_count": 5,
      "outputs": [
        {
          "output_type": "stream",
          "name": "stdout",
          "text": [
            "Test Error:  1.395899730682373\n",
            "Test Accuracy:  0.4021\n"
          ]
        }
      ]
    }
  ]
}